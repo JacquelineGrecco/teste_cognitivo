{
 "cells": [
  {
   "cell_type": "code",
   "execution_count": null,
   "metadata": {},
   "outputs": [],
   "source": [
    "%load_ext autoreload\n",
    "%autoreload 2"
   ]
  },
  {
   "cell_type": "code",
   "execution_count": null,
   "metadata": {},
   "outputs": [],
   "source": [
    "from pyspark.sql import SparkSession\n",
    "from pyspark.sql import functions as F\n",
    "from pyspark.sql.types import *\n",
    "import json\n"
   ]
  },
  {
   "cell_type": "code",
   "execution_count": null,
   "metadata": {},
   "outputs": [],
   "source": [
    "def SparkConfig() -> object:\n",
    "    spark = SparkSession \\\n",
    "        .builder \\\n",
    "        .config(\"spark.serializer\", \"org.apache.spark.serializer.KryoSerializer\") \\\n",
    "        .config(\"spark.kryoserializer.buffer\", \"512k\") \\\n",
    "        .config(\"spark.kryoserializer.buffer.max\", \"512m\") \\\n",
    "        .config(\"spark.scripts_sql.parquet.filterPushdown\", \"true\") \\\n",
    "        .config(\"spark.scripts_sql.parquet.mergeSchema\", \"false\") \\\n",
    "        .config(\"spark.hadoop.mapreduce.fileoutputcommitter.algorithm.version\", \"2\") \\\n",
    "        .config(\"spark.speculation\", \"false\") \\\n",
    "        .config(\"spark.network.timeout\", \"600\") \\\n",
    "        .config(\"spark.executor.heartbeatInterval\", \"600\") \\\n",
    "        .config(\"spark.executor.memory\", \"6g\") \\\n",
    "        .config(\"spark.driver.memory\", \"6g\") \\\n",
    "        .config(\"spark.executor.pyspark.memory\", \"6g\") \\\n",
    "        .master(\"local[10]\") \\\n",
    "        .getOrCreate()\n",
    "    return spark"
   ]
  },
  {
   "cell_type": "code",
   "execution_count": null,
   "metadata": {},
   "outputs": [],
   "source": [
    "def CustomSchema(filename):\n",
    "    try:\n",
    "        with open(filename,'r') as f:\n",
    "            data = json.loads(f.read())\n",
    "            mapping = {\"string\": StringType, \"integer\": IntegerType, \"timestamp\": TimestampType}\n",
    "            schema = StructType([StructField(key, mapping.get(data[key])(), True) for key in data])  \n",
    "        return schema \n",
    "    except ValueError as e:\n",
    "        print('invalid json: %s' % e)\n",
    "    return None"
   ]
  },
  {
   "cell_type": "code",
   "execution_count": null,
   "metadata": {},
   "outputs": [],
   "source": [
    "json_file = \"config/types_mapping.json\"\n",
    "schema  = CustomSchema(json_file)"
   ]
  },
  {
   "cell_type": "code",
   "execution_count": null,
   "metadata": {},
   "outputs": [],
   "source": [
    "# File location and type\n",
    "csv_file_location = \"data/input/users/load.csv\"\n",
    "file_type = \"csv\"\n",
    "\n",
    "# CSV options\n",
    "infer_schema = \"false\"\n",
    "first_row_is_header = \"true\"\n",
    "delimiter = \",\""
   ]
  },
  {
   "cell_type": "code",
   "execution_count": null,
   "metadata": {},
   "outputs": [],
   "source": [
    "spark = SparkConfig() \n",
    "df = spark.read.format(file_type).option(\"header\", first_row_is_header).option(\"sep\",delimiter).schema(schema).load(csv_file_location)\n",
    "df.printSchema()"
   ]
  },
  {
   "cell_type": "code",
   "execution_count": null,
   "metadata": {},
   "outputs": [],
   "source": [
    "if df.filter(F.col('name').contains('@')):\n",
    "  df = df.withColumn('aux_email', df['name']).withColumn('name', df['email'])\n",
    "  df = df.withColumn('email', df['aux_email']).drop('aux_email')"
   ]
  },
  {
   "cell_type": "code",
   "execution_count": null,
   "metadata": {},
   "outputs": [],
   "source": [
    "df.orderBy(\"id\", \"update_date\").show()"
   ]
  },
  {
   "cell_type": "code",
   "execution_count": null,
   "metadata": {},
   "outputs": [],
   "source": [
    "df_final = df.orderBy('id', 'update_date', ascending= False).dropDuplicates(subset=['id'])\n",
    "\n",
    "df_final.orderBy('id').show()"
   ]
  },
  {
   "cell_type": "code",
   "execution_count": null,
   "metadata": {},
   "outputs": [],
   "source": [
    "parquet_file = \"data/output/load.parquet\"\n",
    "df_final.write.parquet(parquet_file)"
   ]
  }
 ],
 "metadata": {
  "language_info": {
   "name": "python",
   "codemirror_mode": {
    "name": "ipython",
    "version": 3
   }
  },
  "orig_nbformat": 2,
  "file_extension": ".py",
  "mimetype": "text/x-python",
  "name": "python",
  "npconvert_exporter": "python",
  "pygments_lexer": "ipython3",
  "version": 3
 },
 "nbformat": 4,
 "nbformat_minor": 2
}